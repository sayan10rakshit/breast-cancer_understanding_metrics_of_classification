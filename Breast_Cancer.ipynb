{
 "cells": [
  {
   "cell_type": "markdown",
   "metadata": {
    "id": "A_5noAffQiFu"
   },
   "source": [
    "# Understanding Metrics of Classification  \n",
    "Sayan Rakshit\n",
    "<br>\n",
    "<a href=\"https://github.com/sayan10rakshit/\">GitHub</a>"
   ]
  },
  {
   "cell_type": "markdown",
   "metadata": {
    "id": "ZEfpi-qnQhvI"
   },
   "source": [
    "In this notebook, lets make a clear understanding of the different metrics used to determine the performance of any classifier. We will calculate different metrics and see what it represents.   \n",
    "We will calculate these metrics by defining our own functions, and also verify them by comparing with `scikit-learn's` library functions.   "
   ]
  },
  {
   "cell_type": "markdown",
   "metadata": {
    "id": "YjJmGxnbY9m9"
   },
   "source": [
    "Lets start with importing libraries we will need in this notebook."
   ]
  },
  {
   "cell_type": "markdown",
   "metadata": {
    "id": "eXSU_fk7RlEM"
   },
   "source": [
    "### Importing libraries"
   ]
  },
  {
   "cell_type": "code",
   "execution_count": 5,
   "metadata": {
    "id": "Sx4KZX7cF8Yd"
   },
   "outputs": [],
   "source": [
    "import numpy as np\n",
    "import pandas as pd\n",
    "from sklearn.datasets import load_breast_cancer\n",
    "from sklearn.model_selection import train_test_split\n",
    "from sklearn import svm\n",
    "from sklearn import metrics\n",
    "import matplotlib.pyplot as plt\n",
    "import seaborn as sns\n",
    "import itertools\n",
    "\n",
    "np.random.seed(42)  # for reproducibility\n",
    "sns.set(rc={\"figure.figsize\": (8, 8)})\n",
    "sns.set_style(\"ticks\")"
   ]
  },
  {
   "cell_type": "markdown",
   "metadata": {
    "id": "0pddJrEbRtbr"
   },
   "source": [
    "### Dataset\n",
    "For comparing different metrics, we will use the [Breast Cancer Dataset](https://goo.gl/U2Uwz2) which is provided by sckit-learn in `dataset` module. This dataset is used for binary classification between two types of cancer."
   ]
  },
  {
   "cell_type": "code",
   "execution_count": 6,
   "metadata": {
    "colab": {
     "base_uri": "https://localhost:8080/",
     "height": 408
    },
    "id": "glPEglrYGV6f",
    "outputId": "f0dbc433-a2b7-45fd-92ac-de56868f7fd9"
   },
   "outputs": [
    {
     "name": "stdout",
     "output_type": "stream",
     "text": [
      ".. _breast_cancer_dataset:\n",
      "\n",
      "Breast cancer wisconsin (diagnostic) dataset\n",
      "--------------------------------------------\n",
      "\n",
      "**Data Set Characteristics:**\n",
      "\n",
      "    :Number of Instances: 569\n",
      "\n",
      "    :Number of Attributes: 30 numeric, predictive attributes and the class\n",
      "\n",
      "    :Attribute Information:\n",
      "        - radius (mean of distances from center to points on the perimeter)\n",
      "        - texture (standard deviation of gray-scale values)\n",
      "        - perimeter\n",
      "        - area\n",
      "        - smoothness (local variation in radius lengths)\n",
      "        - compactness (perimeter^2 / area - 1.0)\n",
      "        - concavity (severity of concave portions of the contour)\n",
      "        - concave points (number of concave portions of the contour)\n",
      "        - symmetry\n",
      "        - fractal dimension (\"coastline appr\n"
     ]
    }
   ],
   "source": [
    "data = load_breast_cancer()\n",
    "print(data.DESCR[:760])  # print short description"
   ]
  },
  {
   "cell_type": "markdown",
   "metadata": {
    "id": "XQyaWAlhSTLL"
   },
   "source": [
    "Let's see what are the targets classes i.e. types of cancer."
   ]
  },
  {
   "cell_type": "code",
   "execution_count": 7,
   "metadata": {
    "colab": {
     "base_uri": "https://localhost:8080/",
     "height": 34
    },
    "id": "bStQWeSOSSp2",
    "outputId": "3880a990-e083-413c-c81b-78d4dfed16ac"
   },
   "outputs": [
    {
     "name": "stdout",
     "output_type": "stream",
     "text": [
      "Types of cancer (targets) are ['malignant' 'benign']\n"
     ]
    }
   ],
   "source": [
    "print(f\"Types of cancer (targets) are {data.target_names}\")"
   ]
  },
  {
   "cell_type": "markdown",
   "metadata": {
    "id": "JizLx4ZfSZ-y"
   },
   "source": [
    "What is the dimension of data?  We see there are **569 examples** and each example has **30 features**.  \n",
    "The **target** variable is binary (**0 and 1** for `malignant` and `benign`).   \n",
    "We will consider `benign` as `positive` class, and `malignant` as `negative` class.  \n",
    "We can understand it as:  \n",
    "`0 for is_not_benign`  \n",
    "`1 for is_benign`"
   ]
  },
  {
   "cell_type": "code",
   "execution_count": 8,
   "metadata": {
    "colab": {
     "base_uri": "https://localhost:8080/",
     "height": 34
    },
    "id": "xG-br8XcHXHC",
    "outputId": "f0e42571-1628-4b7a-9d15-9cc770148576"
   },
   "outputs": [
    {
     "name": "stdout",
     "output_type": "stream",
     "text": [
      "Shape of features is (569, 30), and shape of target is (569,)\n"
     ]
    }
   ],
   "source": [
    "X = data.data  # features\n",
    "y = data.target  # labels\n",
    "print(f\"Shape of features is {X.shape}, and shape of target is {y.shape}\")"
   ]
  },
  {
   "cell_type": "markdown",
   "metadata": {
    "id": "zpdfCVt8TW5K"
   },
   "source": [
    "### Split the data\n",
    "Since we shouldn't train and test our model with the same dataset, it is always a good idea to split the data in three parts - train data, test data, and validation data.  \n",
    "We won't require validation data here.\n",
    "We split the dataset into training and testing data, with 369 examples for training, and 200 examples for testing."
   ]
  },
  {
   "cell_type": "code",
   "execution_count": 9,
   "metadata": {
    "id": "QsgrNr2RINsN"
   },
   "outputs": [],
   "source": [
    "X_train, X_test, y_train, y_test = train_test_split(X, y, test_size=200, random_state=42, stratify=y)"
   ]
  },
  {
   "cell_type": "code",
   "execution_count": 10,
   "metadata": {
    "colab": {
     "base_uri": "https://localhost:8080/",
     "height": 34
    },
    "id": "YAU7JsyNJhc-",
    "outputId": "59461afb-bb4c-4b42-83fb-add3b23894bd"
   },
   "outputs": [
    {
     "data": {
      "text/plain": [
       "array([1, 1, 1, 1, 0, 1, 1, 1, 0, 1])"
      ]
     },
     "execution_count": 10,
     "metadata": {},
     "output_type": "execute_result"
    }
   ],
   "source": [
    "y_train[:10]"
   ]
  },
  {
   "cell_type": "markdown",
   "metadata": {
    "id": "DVCi5RMsJE-O"
   },
   "source": [
    "### Training and predicting data"
   ]
  },
  {
   "cell_type": "markdown",
   "metadata": {
    "id": "4iRqwJU-TmIt"
   },
   "source": [
    "In this example, we will use scikit's Support Vector Machines classifier to predict whether its a benign cancer.  \n",
    "`SVC` classifier is used from `sklearn.svm`. Ofcourse, we can try any of the other classifiers and compare accuracies."
   ]
  },
  {
   "cell_type": "code",
   "execution_count": 11,
   "metadata": {
    "id": "4pKL5VoJKh8A"
   },
   "outputs": [],
   "source": [
    "classifier = svm.SVC(kernel='linear', probability=True, verbose=True)"
   ]
  },
  {
   "cell_type": "markdown",
   "metadata": {
    "id": "6DwkhGMyT2BJ"
   },
   "source": [
    "Next we fit/train the model on our _training dataset_. It trains quite fast since we are working with relatively small dataset."
   ]
  },
  {
   "cell_type": "code",
   "execution_count": 12,
   "metadata": {
    "colab": {
     "base_uri": "https://localhost:8080/",
     "height": 85
    },
    "id": "1rj0E-XnLWaH",
    "outputId": "9702ce7b-0c94-402c-b76e-e4c598fdd168"
   },
   "outputs": [
    {
     "name": "stdout",
     "output_type": "stream",
     "text": [
      "[LibSVM]"
     ]
    },
    {
     "data": {
      "text/plain": [
       "SVC(kernel='linear', probability=True, verbose=True)"
      ]
     },
     "execution_count": 12,
     "metadata": {},
     "output_type": "execute_result"
    }
   ],
   "source": [
    "classifier.fit(X_train, y_train)"
   ]
  },
  {
   "cell_type": "markdown",
   "metadata": {
    "id": "hZvqwrrAT6UV"
   },
   "source": [
    "Now save the prediction results both as probability and as classes.  \n",
    "**`y_preds`** is a **1D vector** of one of `{0, 1}` values, denoting predictions as malignant and benign, respectively.  \n",
    "**`y_proba`** is a **2D vector**, where for each example, it contains a vector of length 2,  \n",
    "`[prob. of malignant, prob. of benign]`"
   ]
  },
  {
   "cell_type": "code",
   "execution_count": 13,
   "metadata": {
    "id": "1PdjKHbfT6AX"
   },
   "outputs": [],
   "source": [
    "y_preds = classifier.predict(X_test)\n",
    "y_proba = classifier.predict_proba(X_test)"
   ]
  },
  {
   "cell_type": "markdown",
   "metadata": {
    "id": "b-9Dsn3yGXx7"
   },
   "source": [
    "We need to reshape `y_proba` to a 1D vector denoting the probability of having  `benign` cancer."
   ]
  },
  {
   "cell_type": "code",
   "execution_count": 14,
   "metadata": {
    "id": "To9oQknC19dh"
   },
   "outputs": [],
   "source": [
    "y_proba = y_proba[:,1].reshape((y_proba.shape[0],))"
   ]
  },
  {
   "cell_type": "code",
   "execution_count": 15,
   "metadata": {
    "colab": {
     "base_uri": "https://localhost:8080/",
     "height": 68
    },
    "id": "J_VDguyUL7fu",
    "outputId": "9efcd37e-0ede-4db0-c77d-f9b77edd8173"
   },
   "outputs": [
    {
     "data": {
      "text/plain": [
       "(array([0.99697265, 0.08136592, 0.99999168, 0.96809404, 0.99999907]),\n",
       " array([1, 0, 1, 1, 1]),\n",
       " array([1, 0, 1, 1, 1]))"
      ]
     },
     "execution_count": 15,
     "metadata": {},
     "output_type": "execute_result"
    }
   ],
   "source": [
    "y_proba[:5], y_preds[:5], y_test[:5]"
   ]
  },
  {
   "cell_type": "markdown",
   "metadata": {
    "id": "QM2WA4_FJfgT"
   },
   "source": [
    "### Confusion Matrix"
   ]
  },
  {
   "cell_type": "markdown",
   "metadata": {
    "id": "HEtVeYiBUDvH"
   },
   "source": [
    "Let us calculate confusion matrix of the predictions. It is implemented in Scikit-learn's [`sklearn.metrics.confusion_matrix`](http://scikit-learn.org/stable/modules/generated/sklearn.metrics.confusion_matrix.html)."
   ]
  },
  {
   "cell_type": "code",
   "execution_count": 16,
   "metadata": {
    "colab": {
     "base_uri": "https://localhost:8080/",
     "height": 51
    },
    "id": "gXSq_kfcN8U8",
    "outputId": "64a074dd-eb2e-433b-f9c2-b242866dd70c"
   },
   "outputs": [
    {
     "data": {
      "text/plain": [
       "array([[ 68,   7],\n",
       "       [  2, 123]], dtype=int64)"
      ]
     },
     "execution_count": 16,
     "metadata": {},
     "output_type": "execute_result"
    }
   ],
   "source": [
    "conf = metrics.confusion_matrix(y_test, y_preds)\n",
    "conf"
   ]
  },
  {
   "cell_type": "markdown",
   "metadata": {
    "id": "FISHOdmxqPXl"
   },
   "source": [
    "We can also implement our own confusion matrix.  Here's my implementation."
   ]
  },
  {
   "cell_type": "code",
   "execution_count": 17,
   "metadata": {
    "id": "e1yDrh9AqZjB"
   },
   "outputs": [],
   "source": [
    "def get_confusion_matrix(y_true, y_pred):\n",
    "    n_classes = len(np.unique(y_true))\n",
    "    conf = np.zeros((n_classes, n_classes))\n",
    "    for actual, pred in zip(y_true, y_pred):\n",
    "        conf[int(actual)][int(pred)] += 1\n",
    "    return conf.astype('int')"
   ]
  },
  {
   "cell_type": "code",
   "execution_count": null,
   "metadata": {
    "colab": {
     "base_uri": "https://localhost:8080/",
     "height": 51
    },
    "id": "txQRtyAZrnbG",
    "outputId": "e18d7e18-e05d-4d5f-8787-c61793bbca2d"
   },
   "outputs": [
    {
     "data": {
      "text/plain": [
       "array([[ 68,   7],\n",
       "       [  2, 123]])"
      ]
     },
     "execution_count": 104,
     "metadata": {
      "tags": []
     },
     "output_type": "execute_result"
    }
   ],
   "source": [
    "conf = get_confusion_matrix(y_test, y_preds)\n",
    "conf"
   ]
  },
  {
   "cell_type": "code",
   "execution_count": null,
   "metadata": {
    "colab": {
     "base_uri": "https://localhost:8080/",
     "height": 598
    },
    "id": "PiSZNOpnOeYu",
    "outputId": "903aca0e-a4fd-4d6d-df1b-0652f8743dc6"
   },
   "outputs": [
    {
     "data": {
      "text/plain": [
       "Text(0.5,83.88,'Predicted label')"
      ]
     },
     "execution_count": 105,
     "metadata": {
      "tags": []
     },
     "output_type": "execute_result"
    },
    {
     "data": {
      "image/png": "[encoded data removed]",
      "text/plain": [
       "<matplotlib.figure.Figure at 0x7fe3865ac588>"
      ]
     },
     "metadata": {
      "tags": []
     },
     "output_type": "display_data"
    }
   ],
   "source": [
    "classes = [0, 1]\n",
    "# plot confusion matrix\n",
    "plt.imshow(conf, interpolation='nearest', cmap=plt.cm.Greens)\n",
    "plt.title(\"Confusion Matrix\")\n",
    "plt.colorbar()\n",
    "tick_marks = np.arange(len(classes))\n",
    "plt.xticks(tick_marks, classes)\n",
    "plt.yticks(tick_marks, classes)\n",
    "\n",
    "fmt = 'd'\n",
    "thresh = conf.max() / 2.\n",
    "for i, j in itertools.product(range(conf.shape[0]), range(conf.shape[1])):\n",
    "    plt.text(j, i, format(conf[i, j], fmt),\n",
    "             horizontalalignment=\"center\",\n",
    "             color=\"white\" if conf[i, j] > thresh else \"black\")\n",
    "\n",
    "plt.tight_layout()\n",
    "plt.ylabel('True label')\n",
    "plt.xlabel('Predicted label')"
   ]
  },
  {
   "cell_type": "markdown",
   "metadata": {
    "id": "v81eYMJ0UM29"
   },
   "source": [
    "From the confusion matrix, we can see the number of examples predicted correct by our classifier, for both classes seperately.  \n",
    "We can get the numbers of `True Positives, True Negatives, False Positives, and False Negatives` from this confusion matrix.   \n",
    "Lets store these terms in some variables."
   ]
  },
  {
   "cell_type": "code",
   "execution_count": 18,
   "metadata": {
    "id": "gjTIQRccOr-A"
   },
   "outputs": [],
   "source": [
    "# from the confusion matrix\n",
    "TP = true_pos = 123\n",
    "TN = true_neg = 68\n",
    "FP = false_pos = 7\n",
    "FN = false_neg = 2"
   ]
  },
  {
   "cell_type": "markdown",
   "metadata": {
    "id": "USDonfT5Jpr2"
   },
   "source": [
    "### Some basic metrics"
   ]
  },
  {
   "cell_type": "markdown",
   "metadata": {
    "id": "X5dcb4jEPpDR"
   },
   "source": [
    "Now, we will calculate some basic metrics from these four values.  \n",
    "We will need a dictionary to store these metrics. Lets create a dictionary `results`."
   ]
  },
  {
   "cell_type": "code",
   "execution_count": 19,
   "metadata": {
    "id": "wFE2EKmxV_Xx"
   },
   "outputs": [],
   "source": [
    "results = {}"
   ]
  },
  {
   "cell_type": "markdown",
   "metadata": {
    "id": "U6O_iUIHZqgj"
   },
   "source": [
    "#### Accuracy \n",
    "number of examples correctly predicted / total number of examples  \n",
    "![alt text](https://wikimedia.org/api/rest_v1/media/math/render/svg/c72ec21ef2505c2d376e96197637fc64f75e5891)"
   ]
  },
  {
   "cell_type": "code",
   "execution_count": 20,
   "metadata": {
    "colab": {
     "base_uri": "https://localhost:8080/",
     "height": 34
    },
    "id": "4y3hcfI0WFfv",
    "outputId": "2e6b83fc-3865-4406-f837-836fbea1ea17"
   },
   "outputs": [
    {
     "name": "stdout",
     "output_type": "stream",
     "text": [
      "ACC is  0.955\n"
     ]
    }
   ],
   "source": [
    "metric = \"ACC\"\n",
    "results[metric] = (TP + TN) / (TP + TN + FP + FN)\n",
    "print(f\"{metric} is {results[metric]: .3f}\")"
   ]
  },
  {
   "cell_type": "markdown",
   "metadata": {
    "id": "vjmFM1v_Z_a8"
   },
   "source": [
    "#### True Positive Rate\n",
    "number of samples actually and predicted as  `Positive` / total number of samples actually `Positive`  \n",
    "Also called **Sensitivity or Recall**.  \n",
    "![alt text](https://wikimedia.org/api/rest_v1/media/math/render/svg/64d5540cbadeb83f864d7a731b7ab43cccd0f353)\n"
   ]
  },
  {
   "cell_type": "code",
   "execution_count": 21,
   "metadata": {
    "colab": {
     "base_uri": "https://localhost:8080/",
     "height": 34
    },
    "id": "q8JoI-S6WKMS",
    "outputId": "f5f3912b-3cd5-4f81-c1bb-30f00959490e"
   },
   "outputs": [
    {
     "name": "stdout",
     "output_type": "stream",
     "text": [
      "TPR is  0.984\n"
     ]
    }
   ],
   "source": [
    "# Sensitivity or Recall\n",
    "metric = \"TPR\"\n",
    "results[metric] = TP / (TP + FN)\n",
    "print(f\"{metric} is {results[metric]: .3f}\")"
   ]
  },
  {
   "cell_type": "markdown",
   "metadata": {
    "id": "f6y1c1SDa0Lg"
   },
   "source": [
    "#### True Negative Rate\n",
    "number of samples actually and predicted as  `Negative` / total number of samples actually  `Negative`  \n",
    "Also called **Specificity**.  \n",
    "![alt text](https://wikimedia.org/api/rest_v1/media/math/render/svg/aac65b6586cb61c1268403895012c2a8f19b0c5e)\n"
   ]
  },
  {
   "cell_type": "code",
   "execution_count": 22,
   "metadata": {
    "colab": {
     "base_uri": "https://localhost:8080/",
     "height": 34
    },
    "id": "rkRmDKjSYLYE",
    "outputId": "ecd91ca1-6972-4ff0-9cfc-5292f2b3d609"
   },
   "outputs": [
    {
     "name": "stdout",
     "output_type": "stream",
     "text": [
      "TNR is  0.907\n"
     ]
    }
   ],
   "source": [
    "# Specificity\n",
    "metric = \"TNR\"\n",
    "results[metric] = TN / (TN + FP)\n",
    "print(f\"{metric} is {results[metric]: .3f}\")"
   ]
  },
  {
   "cell_type": "markdown",
   "metadata": {
    "id": "qK7WCIlpbDis"
   },
   "source": [
    "#### Positive Predictive Value\n",
    "number of samples actually and predicted as  `Positive` / total number of samples predicted as `Positive`  \n",
    "Also called **Precision**.  \n",
    "![alt text](https://wikimedia.org/api/rest_v1/media/math/render/svg/699fcdb880b7f6a92742bc0845b8b60b59806a98)\n"
   ]
  },
  {
   "cell_type": "code",
   "execution_count": 23,
   "metadata": {
    "colab": {
     "base_uri": "https://localhost:8080/",
     "height": 34
    },
    "id": "lNgS7UwfYce9",
    "outputId": "225c3674-84be-4eb4-990a-ce89378ba79d"
   },
   "outputs": [
    {
     "name": "stdout",
     "output_type": "stream",
     "text": [
      "PPV is  0.946\n"
     ]
    }
   ],
   "source": [
    "# Precision\n",
    "metric = \"PPV\"\n",
    "results[metric] = TP / (TP + FP)\n",
    "print(f\"{metric} is {results[metric]: .3f}\")"
   ]
  },
  {
   "cell_type": "markdown",
   "metadata": {
    "id": "VBPShM1JdQpO"
   },
   "source": [
    "#### Negative Predictive Value\n",
    "number of samples actually and predicted as  `Negative` / total number of samples predicted as `Negative`    \n",
    "![alt text](https://wikimedia.org/api/rest_v1/media/math/render/svg/b6da0f59faffbc1704974e97847ab4fa599f5521)\n"
   ]
  },
  {
   "cell_type": "code",
   "execution_count": 24,
   "metadata": {
    "colab": {
     "base_uri": "https://localhost:8080/",
     "height": 34
    },
    "id": "qAAhCMaOdsSn",
    "outputId": "b953cab9-b4e7-4264-a0f5-13b79d4a21a9"
   },
   "outputs": [
    {
     "name": "stdout",
     "output_type": "stream",
     "text": [
      "NPV is  0.971\n"
     ]
    }
   ],
   "source": [
    "metric = \"NPV\"\n",
    "results[metric] = TN / (TN + FN)\n",
    "print(f\"{metric} is {results[metric]: .3f}\")"
   ]
  },
  {
   "cell_type": "markdown",
   "metadata": {
    "id": "D6mxQtZyfIte"
   },
   "source": [
    "#### F1 score\n",
    "Harmonic Mean of Precision and Recall.  \n",
    "![alt text](https://wikimedia.org/api/rest_v1/media/math/render/svg/5663ca95d471868169c4e4ea57c936f1b6f4a588)"
   ]
  },
  {
   "cell_type": "code",
   "execution_count": 25,
   "metadata": {
    "colab": {
     "base_uri": "https://localhost:8080/",
     "height": 34
    },
    "id": "8pNnIhEbdzFc",
    "outputId": "dd5a9c19-8e99-4607-803d-08c9544cff76"
   },
   "outputs": [
    {
     "name": "stdout",
     "output_type": "stream",
     "text": [
      "F1 is  0.965\n"
     ]
    }
   ],
   "source": [
    "metric = \"F1\"\n",
    "results[metric] = 2 / (1 / results[\"PPV\"] + 1 / results[\"TPR\"])\n",
    "print(f\"{metric} is {results[metric]: .3f}\")"
   ]
  },
  {
   "cell_type": "markdown",
   "metadata": {
    "id": "ZF98MS34edwA"
   },
   "source": [
    "#### Matthew's correlation coefficient\n",
    "Matthew's coefficient range between `[-1, 1]`. `0` usually means totally random predictions. `1` means a perfect classifier, while a negative value (`[-1, 0)`) suggests a negative correlation between predictions and actual values.   \n",
    "Here' the formual for MCC  \n",
    "![alt text](https://wikimedia.org/api/rest_v1/media/math/render/svg/5caa90fc15105b74b59a30bbc9cc2e5bd43a13b7)"
   ]
  },
  {
   "cell_type": "code",
   "execution_count": 26,
   "metadata": {
    "colab": {
     "base_uri": "https://localhost:8080/",
     "height": 34
    },
    "id": "IxtxoxxmgZxI",
    "outputId": "e288de4e-6bc2-4e3e-def2-983a513414d5"
   },
   "outputs": [
    {
     "name": "stdout",
     "output_type": "stream",
     "text": [
      "MCC is  0.904\n"
     ]
    }
   ],
   "source": [
    "metric = \"MCC\"\n",
    "num = TP * TN - FP * FN\n",
    "den = ((TP + FP) * (TP + FN) * (TN + FP) * (TN + FN)) ** 0.5\n",
    "results[metric] = num / den\n",
    "print(f\"{metric} is {results[metric]: .3f}\")"
   ]
  },
  {
   "cell_type": "markdown",
   "metadata": {
    "id": "4S-Do05vg9js"
   },
   "source": [
    "### Comparing these calculated metrics\n",
    "Let's check if these values match with the values calculated from `scikit-learn`'s functions."
   ]
  },
  {
   "cell_type": "code",
   "execution_count": 27,
   "metadata": {
    "colab": {
     "base_uri": "https://localhost:8080/",
     "height": 102
    },
    "id": "7R0RMkI0krAp",
    "outputId": "e41c3b00-ed05-4602-d1f6-999d4d158fdb"
   },
   "outputs": [
    {
     "name": "stdout",
     "output_type": "stream",
     "text": [
      "Calculated and Actual Accuracy:                           0.955,  0.955\n",
      "Calculated and Actual Precision score:                    0.946,  0.946\n",
      "Calculated and Actual Recall score:                       0.984,  0.984\n",
      "Calculated and Actual F1 score:                           0.965,  0.965\n",
      "Calculated and Actual Matthew's correlation coefficient:  0.904,  0.904\n"
     ]
    }
   ],
   "source": [
    "print(f\"Calculated and Actual Accuracy:                          {results['ACC']: .3f}, {metrics.accuracy_score(y_test, y_preds): .3f}\")\n",
    "print(f\"Calculated and Actual Precision score:                   {results['PPV']: .3f}, {metrics.precision_score(y_test, y_preds): .3f}\")\n",
    "print(f\"Calculated and Actual Recall score:                      {results['TPR']: .3f}, {metrics.recall_score(y_test, y_preds): .3f}\")\n",
    "print(f\"Calculated and Actual F1 score:                          {results['F1']: .3f}, {metrics.f1_score(y_test, y_preds): .3f}\")\n",
    "print(f\"Calculated and Actual Matthew's correlation coefficient: {results['MCC']: .3f}, {metrics.matthews_corrcoef(y_test, y_preds): .3f}\")"
   ]
  },
  {
   "cell_type": "markdown",
   "metadata": {
    "id": "7UI7NWzcpu8p"
   },
   "source": [
    "### ROC curve (Receiver Operating Characteristic curve)\n",
    " A receiver operating characteristic curve, i.e. **ROC curve**, is a graphical plot that illustrates the diagnostic ability of a binary classifier system as its discrimination threshold is varied.  \n",
    " The ROC curve is created by plotting the **True Positive Rate (TPR)** against the **False Positive Rate (FPR)** at various threshold settings.  \n",
    " Let's plot the ROC curve for the Breast Cancer Dataset.  \n",
    " \n",
    " First we will create an ROC curve by calculating values manually at intervaled **thresholds**, then we will compare our results with the `scikit-learn`'s built-in `metrics.roc_curve`."
   ]
  },
  {
   "cell_type": "code",
   "execution_count": 28,
   "metadata": {
    "id": "1-gXSQ_HrdnI"
   },
   "outputs": [],
   "source": [
    "def get_roc_curve(y_test, y_proba, delta=0.1):\n",
    "    \"\"\"\n",
    "    Return the True Positive Rates (TPRs), False Positive Rates (FPRs), \n",
    "    and the threshold values, seperated by delta.\n",
    "    \"\"\"\n",
    "    thresh = list(np.arange(0, 1, delta)) + [1]\n",
    "    TPRs = []\n",
    "    FPRs = []\n",
    "    y_pred = np.empty(y_proba.shape)\n",
    "    for th in thresh:\n",
    "        y_pred[y_proba < th] = 0\n",
    "        y_pred[y_proba >= th] = 1\n",
    "        \n",
    "        # confusion matrix from the function we defined\n",
    "        (TN, FP), (FN, TP) = get_confusion_matrix(y_test, y_pred)\n",
    "        \n",
    "        TPR = TP / (TP + FN)  # sensitivity\n",
    "        FPR = FP / (FP + TN)  # 1 - specificity\n",
    "        TPRs.append(TPR)\n",
    "        FPRs.append(FPR)\n",
    "    return FPRs, TPRs, thresh"
   ]
  },
  {
   "cell_type": "markdown",
   "metadata": {
    "id": "W3iQtSMKJ63N"
   },
   "source": [
    "Here, `delta` is the difference between each of the thresholds at which ROC curve is calculated."
   ]
  },
  {
   "cell_type": "code",
   "execution_count": 29,
   "metadata": {
    "id": "2zkIsIz31HGY"
   },
   "outputs": [],
   "source": [
    "delta = 0.001\n",
    "FPRs, TPRs, _ = get_roc_curve(y_test, y_proba, delta)"
   ]
  },
  {
   "cell_type": "code",
   "execution_count": 30,
   "metadata": {
    "colab": {
     "base_uri": "https://localhost:8080/",
     "height": 518
    },
    "id": "Igzm5LZDzsNZ",
    "outputId": "38c66386-10e9-41c3-db3d-298a1600836e"
   },
   "outputs": [
    {
     "data": {
      "image/png": "[encoded data removed]",
      "text/plain": [
       "<Figure size 576x576 with 1 Axes>"
      ]
     },
     "metadata": {},
     "output_type": "display_data"
    }
   ],
   "source": [
    "# Plot the ROC curve\n",
    "plt.plot(FPRs, TPRs, color='red',\n",
    "         lw=2, label='ROC curve')\n",
    "plt.plot([0, 1], [0, 1], color='navy', lw=2, linestyle='--', label=\"Mean\")\n",
    "plt.xlim([-0.05, 1.0])\n",
    "plt.ylim([0.0, 1.05])\n",
    "plt.xlabel('False Positive Rate')\n",
    "plt.ylabel('True Positive Rate')\n",
    "plt.title(f'ROC curve (threshold delta = {delta})')\n",
    "plt.legend(loc=\"lower right\")\n",
    "plt.show()"
   ]
  },
  {
   "cell_type": "markdown",
   "metadata": {
    "id": "q6B3omej42Rk"
   },
   "source": [
    "The peak towards left-most corner means near perfect classifier, while random prediction will have the curve as the blue dotted straight line.  \n",
    "This ROC curve tells us that our model is nearly perfect classifier, with high accuracy :)"
   ]
  },
  {
   "cell_type": "markdown",
   "metadata": {
    "id": "SW550-BH5nRb"
   },
   "source": [
    "Let's calculate an ROC curve with random predictions, and plot it to see the difference."
   ]
  },
  {
   "cell_type": "code",
   "execution_count": 31,
   "metadata": {
    "colab": {
     "base_uri": "https://localhost:8080/",
     "height": 34
    },
    "id": "o6EvFVw655bo",
    "outputId": "91254a60-96a5-4328-f448-d60e47936a2d"
   },
   "outputs": [
    {
     "data": {
      "text/plain": [
       "array([0.79654299, 0.18343479, 0.779691  , 0.59685016, 0.44583275])"
      ]
     },
     "execution_count": 31,
     "metadata": {},
     "output_type": "execute_result"
    }
   ],
   "source": [
    "# create random predictions\n",
    "rand_proba = np.random.random(size=(y_proba.shape))\n",
    "rand_proba[:5]  # 0.5 probability of being 0 or 1"
   ]
  },
  {
   "cell_type": "code",
   "execution_count": 32,
   "metadata": {
    "id": "ZNA8dltO6itt"
   },
   "outputs": [],
   "source": [
    "FPRs, TPRs, _ = get_roc_curve(y_test, rand_proba, delta)  # passing random preds"
   ]
  },
  {
   "cell_type": "code",
   "execution_count": null,
   "metadata": {
    "colab": {
     "base_uri": "https://localhost:8080/",
     "height": 518
    },
    "id": "a-MFHXue2g4C",
    "outputId": "2787bf1e-edd7-45a2-8e85-73eeb8ad3af9"
   },
   "outputs": [
    {
     "data": {
      "image/png": "[encoded data removed]",
      "text/plain": [
       "<matplotlib.figure.Figure at 0x7fe3866296a0>"
      ]
     },
     "metadata": {
      "tags": []
     },
     "output_type": "display_data"
    }
   ],
   "source": [
    "# Plot the ROC curve\n",
    "plt.plot(FPRs, TPRs, color='red',\n",
    "         lw=2, label='ROC curve')\n",
    "plt.plot([0, 1], [0, 1], color='navy', lw=2, linestyle='--', label=\"Mean\")\n",
    "plt.xlim([-0.05, 1.0])\n",
    "plt.ylim([0.0, 1.05])\n",
    "plt.xlabel('False Positive Rate')\n",
    "plt.ylabel('True Positive Rate')\n",
    "plt.title(f'Random Predictions ROC curve (threshold delta = {delta})')\n",
    "plt.legend(loc=\"lower right\")\n",
    "plt.show()"
   ]
  },
  {
   "cell_type": "markdown",
   "metadata": {
    "id": "JKHS-Skq-IPp"
   },
   "source": [
    "As we can see from the above plot, random predictions give the ROC curve nearly at the mean.  \n",
    "Contrast it with the previous curve, how our model has top left peak, due to its superior performance."
   ]
  },
  {
   "cell_type": "markdown",
   "metadata": {
    "id": "VOsclL50630Q"
   },
   "source": [
    "---\n",
    "Now, let's see how these curve's are similiar to the ROC curve with scikit's implementation."
   ]
  },
  {
   "cell_type": "code",
   "execution_count": 33,
   "metadata": {
    "id": "azh7aCjE7Qid"
   },
   "outputs": [],
   "source": [
    "FPRs, TPRs, _ = metrics.roc_curve(y_test, y_proba)"
   ]
  },
  {
   "cell_type": "code",
   "execution_count": 34,
   "metadata": {
    "colab": {
     "base_uri": "https://localhost:8080/",
     "height": 518
    },
    "id": "L4-Eric87exv",
    "outputId": "fce9c7a2-3ca6-4a15-e946-2f5aee6860d1"
   },
   "outputs": [
    {
     "data": {
      "image/png": "[encoded data removed]",
      "text/plain": [
       "<Figure size 576x576 with 1 Axes>"
      ]
     },
     "metadata": {},
     "output_type": "display_data"
    }
   ],
   "source": [
    "# Plot the ROC curve\n",
    "plt.plot(FPRs, TPRs, color='red',\n",
    "         lw=2, label='ROC curve')\n",
    "plt.plot([0, 1], [0, 1], color='navy', lw=2, linestyle='--', label=\"Mean\")\n",
    "plt.xlim([-0.05, 1.0])\n",
    "plt.ylim([0.0, 1.05])\n",
    "plt.xlabel('False Positive Rate')\n",
    "plt.ylabel('True Positive Rate')\n",
    "plt.title(\"Scikit-learn's ROC curve\")\n",
    "plt.legend(loc=\"lower right\")\n",
    "plt.show()"
   ]
  },
  {
   "cell_type": "code",
   "execution_count": 35,
   "metadata": {
    "id": "OHTRMD-57xM6"
   },
   "outputs": [],
   "source": [
    "FPRs, TPRs, _ = metrics.roc_curve(y_test, rand_proba)  # passing random preds"
   ]
  },
  {
   "cell_type": "code",
   "execution_count": 36,
   "metadata": {
    "colab": {
     "base_uri": "https://localhost:8080/",
     "height": 518
    },
    "id": "xYr2nKQm7yKI",
    "outputId": "8ae8484a-1449-4a0a-8fd5-82f9b5fecca1"
   },
   "outputs": [
    {
     "data": {
      "image/png": "[encoded data removed]",
      "text/plain": [
       "<Figure size 576x576 with 1 Axes>"
      ]
     },
     "metadata": {},
     "output_type": "display_data"
    }
   ],
   "source": [
    "# Plot the ROC curve\n",
    "plt.plot(FPRs, TPRs, color='red',\n",
    "         lw=2, label='ROC curve')\n",
    "plt.plot([0, 1], [0, 1], color='navy', lw=2, linestyle='--', label=\"Mean\")\n",
    "plt.xlim([-0.05, 1.0])\n",
    "plt.ylim([0.0, 1.05])\n",
    "plt.xlabel('False Positive Rate')\n",
    "plt.ylabel('True Positive Rate')\n",
    "plt.title(\"Scikit-learn's Random Predictions ROC curve\")\n",
    "plt.legend(loc=\"lower right\")\n",
    "plt.show()"
   ]
  },
  {
   "cell_type": "markdown",
   "metadata": {
    "id": "wcQXLrk68FC1"
   },
   "source": [
    "### ROC-AUC score\n",
    "Now, that we know about ROC curve, what it represents, **AUC score** is very easy to understand.  \n",
    "AUC stands for **Area under the Curve**, which is nothing but the area under the ROC curve formed by the predictions.  \n",
    "As we saw, a totally random prediction will have AUC score `0.5`, while a perfect classifier will have AUC score of `1`. "
   ]
  },
  {
   "cell_type": "markdown",
   "metadata": {
    "id": "JETH5mgtIs9Y"
   },
   "source": [
    "Lets check the AUC score of our model."
   ]
  },
  {
   "cell_type": "code",
   "execution_count": 37,
   "metadata": {
    "colab": {
     "base_uri": "https://localhost:8080/",
     "height": 34
    },
    "id": "pQmvuU9AKUvm",
    "outputId": "5fe6061f-1149-4f4b-8dc6-a3a8dd8bcda6"
   },
   "outputs": [
    {
     "name": "stdout",
     "output_type": "stream",
     "text": [
      "Scikit's ROC-AUC score of SVC model is  0.9872\n"
     ]
    }
   ],
   "source": [
    "auc_score = metrics.roc_auc_score(y_test, y_proba)\n",
    "print(f\"Scikit's ROC-AUC score of SVC model is {auc_score: .4f}\")"
   ]
  },
  {
   "cell_type": "markdown",
   "metadata": {
    "id": "IJFx9ubwddpn"
   },
   "source": [
    "We can also calculate the **ROC-AUC score** by summing up the areas under each observation of FPRs and TPRs."
   ]
  },
  {
   "cell_type": "code",
   "execution_count": 38,
   "metadata": {
    "id": "cyx-Y4nPd6oL"
   },
   "outputs": [],
   "source": [
    "def get_roc_auc_score(y_test, y_proba):\n",
    "    \n",
    "    # use the function get_roc_curve that we created.\n",
    "    FPRs, TPRs, _ = get_roc_curve(y_test, y_proba)\n",
    "    FPRs.reverse()\n",
    "    TPRs.reverse()\n",
    "    x1, y1 = FPRs[0], TPRs[0]\n",
    "    auc = 0.0\n",
    "    prev = 0.0\n",
    "    # cumulative differences in x-axis\n",
    "    diffs = [FPRs[i] - FPRs[i-1] for i in range(1, len(FPRs))]\n",
    "    for x, y in zip(diffs, TPRs[1:]):\n",
    "        auc += (x * y1)  # area of rectangle\n",
    "        auc += (x * (y - y1)/2)  # area of triangle formed (if any)\n",
    "        y1 = y\n",
    "    return auc"
   ]
  },
  {
   "cell_type": "code",
   "execution_count": 39,
   "metadata": {
    "colab": {
     "base_uri": "https://localhost:8080/",
     "height": 34
    },
    "id": "pqucApZPjn9H",
    "outputId": "cb61c2b2-7a7d-4362-d9a1-eaccdbf05e8d"
   },
   "outputs": [
    {
     "name": "stdout",
     "output_type": "stream",
     "text": [
      "Our ROC-AUC score of SVC model is  0.9874\n"
     ]
    }
   ],
   "source": [
    "auc_score = get_roc_auc_score(y_test, y_proba)\n",
    "print(f\"Our ROC-AUC score of SVC model is {auc_score: .4f}\")"
   ]
  },
  {
   "cell_type": "markdown",
   "metadata": {
    "id": "54g1PC2jK0MS"
   },
   "source": [
    "This is a good ROC-AUC score as we expected. (Also pretty close to Scikit's implementation).  \n",
    "Lets try the ROC-AUC score of random predictions."
   ]
  },
  {
   "cell_type": "code",
   "execution_count": 40,
   "metadata": {
    "colab": {
     "base_uri": "https://localhost:8080/",
     "height": 51
    },
    "id": "p0970PIaLBYj",
    "outputId": "b4a36adc-5cfe-45bd-f3b9-b27174d4c837"
   },
   "outputs": [
    {
     "name": "stdout",
     "output_type": "stream",
     "text": [
      "Scikit's ROC-AUC score of random predictions is:  0.5111\n",
      "Our ROC-AUC score of random predictions is:       0.5080\n"
     ]
    }
   ],
   "source": [
    "auc_score = metrics.roc_auc_score(y_test, rand_proba)\n",
    "print(f\"Scikit's ROC-AUC score of random predictions is: {auc_score: .4f}\")\n",
    "auc_score = get_roc_auc_score(y_test, rand_proba)\n",
    "print(f\"Our ROC-AUC score of random predictions is:      {auc_score: .4f}\")"
   ]
  },
  {
   "cell_type": "markdown",
   "metadata": {
    "id": "Ara7jLPbLPXQ"
   },
   "source": [
    "As expected, it is close to `0.5`.  \n",
    "(The minor differences are due to different granularity of thresholds chosen by us, and in Scikit's implementation. )"
   ]
  }
 ],
 "metadata": {
  "accelerator": "GPU",
  "colab": {
   "collapsed_sections": [],
   "name": "UnderstandingMetrics.ipynb",
   "provenance": [],
   "toc_visible": true
  },
  "kernelspec": {
   "display_name": "Python 3",
   "language": "python",
   "name": "python3"
  },
  "language_info": {
   "codemirror_mode": {
    "name": "ipython",
    "version": 3
   },
   "file_extension": ".py",
   "mimetype": "text/x-python",
   "name": "python",
   "nbconvert_exporter": "python",
   "pygments_lexer": "ipython3",
   "version": "3.7.10"
  }
 },
 "nbformat": 4,
 "nbformat_minor": 1
}
